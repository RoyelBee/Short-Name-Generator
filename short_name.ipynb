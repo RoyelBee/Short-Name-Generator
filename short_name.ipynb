{
 "cells": [
  {
   "cell_type": "code",
   "execution_count": 1,
   "metadata": {
    "pycharm": {
     "is_executing": true
    }
   },
   "outputs": [],
   "source": [
    "# Import all library \n",
    "import pandas as pd \n",
    "import pyodbc as db\n",
    "import re"
   ]
  },
  {
   "cell_type": "code",
   "execution_count": 2,
   "metadata": {
    "pycharm": {
     "name": "#%%\n"
    }
   },
   "outputs": [],
   "source": [
    "# # Read full name files \n",
    "# data = pd.read_excel('./Data/fullnamelist.xlsx')\n",
    "# data.head()"
   ]
  },
  {
   "cell_type": "code",
   "execution_count": 50,
   "metadata": {},
   "outputs": [],
   "source": [
    "# server connections  \n",
    "connection = db.connect('DRIVER={SQL Server};'\n",
    "                            'SERVER=137.116.139.217;'\n",
    "                            'DATABASE=ARCHND;'\n",
    "                            'UID=sa;PWD=erp@123')\n",
    "\n",
    "query = \"\"\"SELECT  CustomerInformation.IDCUST,CustomerInformation.NAMECUST,\n",
    "        CustomerInformation.CUSTYPEDESC, customerinformation.AUDTORG\n",
    "        from ARCHIVESKF.dbo.CustomerInformation LEFT OUTER JOIN\n",
    "        ARCHIVESKF.dbo.Customer_ShortName ON Rtrim(ltrim(CustomerInformation.IDCUST)) =\n",
    "        Rtrim(ltrim(Customer_ShortName.IDCUST))\n",
    "        AND CustomerInformation.AUDTORG = Customer_ShortName.AUDTORG\n",
    "        where Customer_ShortName.IDCUST is null\n",
    "         \"\"\""
   ]
  },
  {
   "cell_type": "code",
   "execution_count": 51,
   "metadata": {},
   "outputs": [],
   "source": [
    "# Fetch data \n",
    "data = pd.read_sql_query(query, connection)"
   ]
  },
  {
   "cell_type": "code",
   "execution_count": 52,
   "metadata": {},
   "outputs": [
    {
     "data": {
      "text/html": [
       "<div>\n",
       "<style scoped>\n",
       "    .dataframe tbody tr th:only-of-type {\n",
       "        vertical-align: middle;\n",
       "    }\n",
       "\n",
       "    .dataframe tbody tr th {\n",
       "        vertical-align: top;\n",
       "    }\n",
       "\n",
       "    .dataframe thead th {\n",
       "        text-align: right;\n",
       "    }\n",
       "</style>\n",
       "<table border=\"1\" class=\"dataframe\">\n",
       "  <thead>\n",
       "    <tr style=\"text-align: right;\">\n",
       "      <th></th>\n",
       "      <th>IDCUST</th>\n",
       "      <th>NAMECUST</th>\n",
       "      <th>CUSTYPEDESC</th>\n",
       "      <th>AUDTORG</th>\n",
       "    </tr>\n",
       "  </thead>\n",
       "  <tbody>\n",
       "    <tr>\n",
       "      <th>0</th>\n",
       "      <td>90000042282</td>\n",
       "      <td>Rosin Medical Hall                            ...</td>\n",
       "      <td>Doctor-Cum Chemist                            ...</td>\n",
       "      <td>HZJSKF</td>\n",
       "    </tr>\n",
       "    <tr>\n",
       "      <th>1</th>\n",
       "      <td>90000042314</td>\n",
       "      <td>Kholifa Pharmacy                              ...</td>\n",
       "      <td>Retailer-Ex. HQ                               ...</td>\n",
       "      <td>KHLSKF</td>\n",
       "    </tr>\n",
       "    <tr>\n",
       "      <th>2</th>\n",
       "      <td>90000042333</td>\n",
       "      <td>Halder Pharmacy                               ...</td>\n",
       "      <td>Retailer-Ex. HQ                               ...</td>\n",
       "      <td>RAJSKF</td>\n",
       "    </tr>\n",
       "  </tbody>\n",
       "</table>\n",
       "</div>"
      ],
      "text/plain": [
       "        IDCUST                                           NAMECUST  \\\n",
       "0  90000042282  Rosin Medical Hall                            ...   \n",
       "1  90000042314  Kholifa Pharmacy                              ...   \n",
       "2  90000042333  Halder Pharmacy                               ...   \n",
       "\n",
       "                                         CUSTYPEDESC AUDTORG  \n",
       "0  Doctor-Cum Chemist                            ...  HZJSKF  \n",
       "1  Retailer-Ex. HQ                               ...  KHLSKF  \n",
       "2  Retailer-Ex. HQ                               ...  RAJSKF  "
      ]
     },
     "execution_count": 52,
     "metadata": {},
     "output_type": "execute_result"
    }
   ],
   "source": [
    "data.head(3)"
   ]
  },
  {
   "cell_type": "code",
   "execution_count": 43,
   "metadata": {},
   "outputs": [
    {
     "data": {
      "text/plain": [
       "(324, 4)"
      ]
     },
     "execution_count": 43,
     "metadata": {},
     "output_type": "execute_result"
    }
   ],
   "source": [
    "data.shape"
   ]
  },
  {
   "cell_type": "code",
   "execution_count": 44,
   "metadata": {
    "pycharm": {
     "name": "#%%\n"
    }
   },
   "outputs": [
    {
     "data": {
      "text/html": [
       "<div>\n",
       "<style scoped>\n",
       "    .dataframe tbody tr th:only-of-type {\n",
       "        vertical-align: middle;\n",
       "    }\n",
       "\n",
       "    .dataframe tbody tr th {\n",
       "        vertical-align: top;\n",
       "    }\n",
       "\n",
       "    .dataframe thead th {\n",
       "        text-align: right;\n",
       "    }\n",
       "</style>\n",
       "<table border=\"1\" class=\"dataframe\">\n",
       "  <thead>\n",
       "    <tr style=\"text-align: right;\">\n",
       "      <th></th>\n",
       "      <th>actual</th>\n",
       "      <th>short</th>\n",
       "    </tr>\n",
       "  </thead>\n",
       "  <tbody>\n",
       "    <tr>\n",
       "      <th>0</th>\n",
       "      <td>Association</td>\n",
       "      <td>ASSOC</td>\n",
       "    </tr>\n",
       "    <tr>\n",
       "      <th>1</th>\n",
       "      <td>Aushadhalay</td>\n",
       "      <td>AUSHAD</td>\n",
       "    </tr>\n",
       "    <tr>\n",
       "      <th>2</th>\n",
       "      <td>Aushad Ghar</td>\n",
       "      <td>AUSHAD</td>\n",
       "    </tr>\n",
       "  </tbody>\n",
       "</table>\n",
       "</div>"
      ],
      "text/plain": [
       "        actual   short\n",
       "0  Association   ASSOC\n",
       "1  Aushadhalay  AUSHAD\n",
       "2  Aushad Ghar  AUSHAD"
      ]
     },
     "execution_count": 44,
     "metadata": {},
     "output_type": "execute_result"
    }
   ],
   "source": [
    "# Read nameing patterns file \n",
    "patterns = pd.read_excel('./Data/skf_name_patterns.xlsx')\n",
    "patterns.head(3)"
   ]
  },
  {
   "cell_type": "code",
   "execution_count": 45,
   "metadata": {
    "pycharm": {
     "name": "#%%\n"
    }
   },
   "outputs": [],
   "source": [
    "# Convert patterns dataframe to dictionary \n",
    "key = patterns.set_index('actual')['short'].to_dict()"
   ]
  },
  {
   "cell_type": "code",
   "execution_count": 46,
   "metadata": {
    "pycharm": {
     "name": "#%%\n"
    }
   },
   "outputs": [],
   "source": [
    "# Create a new dataframe and store processed data in it \n",
    "df = pd.DataFrame()\n",
    "df['short_name'] = data['NAMECUST'].replace(key, regex=True)"
   ]
  },
  {
   "cell_type": "code",
   "execution_count": 62,
   "metadata": {
    "pycharm": {
     "name": "#%%\n"
    }
   },
   "outputs": [],
   "source": [
    "# Create a new dataframe for both Full Name and Short Name \n",
    "newdf = pd.DataFrame()\n",
    "newdf['IDCUST'] = data.IDCUST.astype(str).str.strip()\n",
    "newdf['NAMECUST'] = data.NAMECUST.str.strip()\n",
    "newdf['Short Name'] = df.short_name.str.strip()\n",
    "newdf['CUSTYPEDESC'] = data.CUSTYPEDESC.str.strip()\n",
    "newdf['AUDTORG'] = data.AUDTORG.str.strip()"
   ]
  },
  {
   "cell_type": "code",
   "execution_count": 63,
   "metadata": {},
   "outputs": [
    {
     "data": {
      "text/plain": [
       "str"
      ]
     },
     "execution_count": 63,
     "metadata": {},
     "output_type": "execute_result"
    }
   ],
   "source": [
    "type(newdf['IDCUST'][0])"
   ]
  },
  {
   "cell_type": "code",
   "execution_count": 64,
   "metadata": {
    "pycharm": {
     "name": "#%%\n"
    }
   },
   "outputs": [
    {
     "name": "stdout",
     "output_type": "stream",
     "text": [
      "short name saved\n"
     ]
    }
   ],
   "source": [
    "# Finally store all actual and processed data in a file \n",
    "newdf.to_csv('./Data/skf_short_name.csv', index=False)\n",
    "print('short name saved')"
   ]
  },
  {
   "cell_type": "markdown",
   "metadata": {
    "pycharm": {
     "name": "#%%\n"
    }
   },
   "source": [
    "# Color not processed rows "
   ]
  },
  {
   "cell_type": "code",
   "execution_count": 65,
   "metadata": {},
   "outputs": [],
   "source": [
    "# Color functions \n",
    "def color_negative_red(val):\n",
    "    color = 'red' if len(val) > 20 else 'black'\n",
    "    return 'color: %s' % color\n",
    "\n",
    "a = newdf.style.applymap(color_negative_red)"
   ]
  },
  {
   "cell_type": "code",
   "execution_count": 66,
   "metadata": {},
   "outputs": [
    {
     "name": "stdout",
     "output_type": "stream",
     "text": [
      "Wrong Output maked as red color\n"
     ]
    }
   ],
   "source": [
    "# Save output\n",
    "a.to_excel('./Data/output.xlsx', index=False)\n",
    "print('Wrong Output maked as red color')"
   ]
  },
  {
   "cell_type": "code",
   "execution_count": null,
   "metadata": {},
   "outputs": [],
   "source": []
  },
  {
   "cell_type": "code",
   "execution_count": null,
   "metadata": {},
   "outputs": [],
   "source": []
  },
  {
   "cell_type": "code",
   "execution_count": null,
   "metadata": {},
   "outputs": [],
   "source": []
  },
  {
   "cell_type": "code",
   "execution_count": null,
   "metadata": {},
   "outputs": [],
   "source": []
  },
  {
   "cell_type": "code",
   "execution_count": null,
   "metadata": {},
   "outputs": [],
   "source": []
  }
 ],
 "metadata": {
  "kernelspec": {
   "display_name": "PyCharm (Short-Name-Generator)",
   "language": "python",
   "name": "pycharm-5102b03c"
  },
  "language_info": {
   "codemirror_mode": {
    "name": "ipython",
    "version": 3
   },
   "file_extension": ".py",
   "mimetype": "text/x-python",
   "name": "python",
   "nbconvert_exporter": "python",
   "pygments_lexer": "ipython3",
   "version": "3.8.3"
  }
 },
 "nbformat": 4,
 "nbformat_minor": 1
}