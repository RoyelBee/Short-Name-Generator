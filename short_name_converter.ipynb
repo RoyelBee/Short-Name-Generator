{
 "cells": [
  {
   "cell_type": "code",
   "execution_count": 56,
   "metadata": {
    "pycharm": {
     "is_executing": true
    }
   },
   "outputs": [],
   "source": [
    "import pandas as pd \n",
    "import re"
   ]
  },
  {
   "cell_type": "code",
   "execution_count": 198,
   "metadata": {},
   "outputs": [
    {
     "data": {
      "text/html": [
       "<div>\n",
       "<style scoped>\n",
       "    .dataframe tbody tr th:only-of-type {\n",
       "        vertical-align: middle;\n",
       "    }\n",
       "\n",
       "    .dataframe tbody tr th {\n",
       "        vertical-align: top;\n",
       "    }\n",
       "\n",
       "    .dataframe thead th {\n",
       "        text-align: right;\n",
       "    }\n",
       "</style>\n",
       "<table border=\"1\" class=\"dataframe\">\n",
       "  <thead>\n",
       "    <tr style=\"text-align: right;\">\n",
       "      <th></th>\n",
       "      <th>fullname</th>\n",
       "      <th>actual</th>\n",
       "      <th>short</th>\n",
       "    </tr>\n",
       "  </thead>\n",
       "  <tbody>\n",
       "    <tr>\n",
       "      <th>0</th>\n",
       "      <td>Ride Medicine Corner</td>\n",
       "      <td>Medicine</td>\n",
       "      <td>MDCN</td>\n",
       "    </tr>\n",
       "    <tr>\n",
       "      <th>1</th>\n",
       "      <td>Konok Pharmacy</td>\n",
       "      <td>Pharmacy</td>\n",
       "      <td>PHAR</td>\n",
       "    </tr>\n",
       "    <tr>\n",
       "      <th>2</th>\n",
       "      <td>Shahera Medicine Corner</td>\n",
       "      <td>NaN</td>\n",
       "      <td>NaN</td>\n",
       "    </tr>\n",
       "    <tr>\n",
       "      <th>3</th>\n",
       "      <td>Manik Medical Hall</td>\n",
       "      <td>NaN</td>\n",
       "      <td>NaN</td>\n",
       "    </tr>\n",
       "    <tr>\n",
       "      <th>4</th>\n",
       "      <td>Sourav Sajib Medical hall</td>\n",
       "      <td>NaN</td>\n",
       "      <td>NaN</td>\n",
       "    </tr>\n",
       "  </tbody>\n",
       "</table>\n",
       "</div>"
      ],
      "text/plain": [
       "                    fullname     actual short\n",
       "0       Ride Medicine Corner  Medicine   MDCN\n",
       "1             Konok Pharmacy   Pharmacy  PHAR\n",
       "2    Shahera Medicine Corner        NaN   NaN\n",
       "3         Manik Medical Hall        NaN   NaN\n",
       "4  Sourav Sajib Medical hall        NaN   NaN"
      ]
     },
     "execution_count": 198,
     "metadata": {},
     "output_type": "execute_result"
    }
   ],
   "source": [
    "data = pd.read_csv('../Data/fullname_shortname.csv')\n",
    "data.head()"
   ]
  },
  {
   "cell_type": "code",
   "execution_count": 149,
   "metadata": {},
   "outputs": [],
   "source": [
    "fullname = data.fullname\n",
    "actual= data.actual\n",
    "short = data.short"
   ]
  },
  {
   "cell_type": "code",
   "execution_count": 95,
   "metadata": {},
   "outputs": [
    {
     "data": {
      "text/plain": [
       "0    Ride Medicine Corner                          ...\n",
       "1    Konok Pharmacy                                ...\n",
       "Name: fullname, dtype: object"
      ]
     },
     "execution_count": 95,
     "metadata": {},
     "output_type": "execute_result"
    }
   ],
   "source": [
    "full_name.head(2)"
   ]
  },
  {
   "cell_type": "code",
   "execution_count": 96,
   "metadata": {},
   "outputs": [
    {
     "data": {
      "text/plain": [
       "0    Medicine \n",
       "1     Pharmacy\n",
       "Name: actual, dtype: object"
      ]
     },
     "execution_count": 96,
     "metadata": {},
     "output_type": "execute_result"
    }
   ],
   "source": [
    "actual.head(2)"
   ]
  },
  {
   "cell_type": "code",
   "execution_count": 97,
   "metadata": {},
   "outputs": [
    {
     "data": {
      "text/plain": [
       "0    MDCN\n",
       "1    PHAR\n",
       "Name: short, dtype: object"
      ]
     },
     "execution_count": 97,
     "metadata": {},
     "output_type": "execute_result"
    }
   ],
   "source": [
    "short.head(2)"
   ]
  },
  {
   "cell_type": "code",
   "execution_count": 98,
   "metadata": {},
   "outputs": [],
   "source": [
    "actual = actual[0]\n",
    "short = short[0]\n",
    "# for i in range(len(full_name)):\n",
    "#     s= full_name[i].replace(actual, rep_val)\n",
    "#     print(s)"
   ]
  },
  {
   "cell_type": "code",
   "execution_count": 63,
   "metadata": {},
   "outputs": [
    {
     "data": {
      "text/plain": [
       "'Pharmacy'"
      ]
     },
     "execution_count": 63,
     "metadata": {},
     "output_type": "execute_result"
    }
   ],
   "source": [
    "actual"
   ]
  },
  {
   "cell_type": "code",
   "execution_count": 64,
   "metadata": {},
   "outputs": [
    {
     "data": {
      "text/plain": [
       "'PHAR'"
      ]
     },
     "execution_count": 64,
     "metadata": {},
     "output_type": "execute_result"
    }
   ],
   "source": [
    "short"
   ]
  },
  {
   "cell_type": "code",
   "execution_count": 65,
   "metadata": {},
   "outputs": [],
   "source": [
    "li = []\n",
    "li.clear()\n",
    "def short_name_converter(fullname, actual, short):\n",
    "    for i in range(len(fullname)):\n",
    "        s = fullname[i].replace(actual, short)\n",
    "        li.append(s)"
   ]
  },
  {
   "cell_type": "code",
   "execution_count": 66,
   "metadata": {},
   "outputs": [],
   "source": [
    "short_name_converter(fullname, actual, short)"
   ]
  },
  {
   "cell_type": "code",
   "execution_count": 67,
   "metadata": {},
   "outputs": [],
   "source": [
    "df = pd.DataFrame()\n",
    "df['fullname'] = data.fullname\n",
    "df['short_name'] = li"
   ]
  },
  {
   "cell_type": "code",
   "execution_count": 69,
   "metadata": {},
   "outputs": [
    {
     "data": {
      "text/html": [
       "<div>\n",
       "<style scoped>\n",
       "    .dataframe tbody tr th:only-of-type {\n",
       "        vertical-align: middle;\n",
       "    }\n",
       "\n",
       "    .dataframe tbody tr th {\n",
       "        vertical-align: top;\n",
       "    }\n",
       "\n",
       "    .dataframe thead th {\n",
       "        text-align: right;\n",
       "    }\n",
       "</style>\n",
       "<table border=\"1\" class=\"dataframe\">\n",
       "  <thead>\n",
       "    <tr style=\"text-align: right;\">\n",
       "      <th></th>\n",
       "      <th>fullname</th>\n",
       "      <th>short_name</th>\n",
       "    </tr>\n",
       "  </thead>\n",
       "  <tbody>\n",
       "    <tr>\n",
       "      <th>0</th>\n",
       "      <td>Ride Medicine Corner                          ...</td>\n",
       "      <td>Ride Medicine Corner                          ...</td>\n",
       "    </tr>\n",
       "    <tr>\n",
       "      <th>1</th>\n",
       "      <td>Konok Pharmacy                                ...</td>\n",
       "      <td>Konok PHAR                                    ...</td>\n",
       "    </tr>\n",
       "    <tr>\n",
       "      <th>2</th>\n",
       "      <td>Shahera Medicine Corner                       ...</td>\n",
       "      <td>Shahera Medicine Corner                       ...</td>\n",
       "    </tr>\n",
       "    <tr>\n",
       "      <th>3</th>\n",
       "      <td>Manik Medical Hall                            ...</td>\n",
       "      <td>Manik Medical Hall                            ...</td>\n",
       "    </tr>\n",
       "    <tr>\n",
       "      <th>4</th>\n",
       "      <td>Sourav Sajib Medical hall                     ...</td>\n",
       "      <td>Sourav Sajib Medical hall                     ...</td>\n",
       "    </tr>\n",
       "  </tbody>\n",
       "</table>\n",
       "</div>"
      ],
      "text/plain": [
       "                                            fullname  \\\n",
       "0  Ride Medicine Corner                          ...   \n",
       "1  Konok Pharmacy                                ...   \n",
       "2  Shahera Medicine Corner                       ...   \n",
       "3  Manik Medical Hall                            ...   \n",
       "4  Sourav Sajib Medical hall                     ...   \n",
       "\n",
       "                                          short_name  \n",
       "0  Ride Medicine Corner                          ...  \n",
       "1  Konok PHAR                                    ...  \n",
       "2  Shahera Medicine Corner                       ...  \n",
       "3  Manik Medical Hall                            ...  \n",
       "4  Sourav Sajib Medical hall                     ...  "
      ]
     },
     "execution_count": 69,
     "metadata": {},
     "output_type": "execute_result"
    }
   ],
   "source": [
    "df.head()"
   ]
  },
  {
   "cell_type": "code",
   "execution_count": 70,
   "metadata": {},
   "outputs": [
    {
     "name": "stdout",
     "output_type": "stream",
     "text": [
      "Data Saved\n"
     ]
    }
   ],
   "source": [
    "df.to_csv('../Data/results.csv', index=False)\n",
    "print('Data Saved')"
   ]
  },
  {
   "cell_type": "markdown",
   "metadata": {},
   "source": [
    "# Test "
   ]
  },
  {
   "cell_type": "code",
   "execution_count": 179,
   "metadata": {
    "pycharm": {
     "name": "#%%\n"
    }
   },
   "outputs": [],
   "source": [
    "df = pd.DataFrame()"
   ]
  },
  {
   "cell_type": "code",
   "execution_count": 206,
   "metadata": {},
   "outputs": [],
   "source": [
    "patterns = pd.read_csv('name_patterns.csv', index_col=False)"
   ]
  },
  {
   "cell_type": "code",
   "execution_count": 207,
   "metadata": {},
   "outputs": [
    {
     "data": {
      "text/html": [
       "<div>\n",
       "<style scoped>\n",
       "    .dataframe tbody tr th:only-of-type {\n",
       "        vertical-align: middle;\n",
       "    }\n",
       "\n",
       "    .dataframe tbody tr th {\n",
       "        vertical-align: top;\n",
       "    }\n",
       "\n",
       "    .dataframe thead th {\n",
       "        text-align: right;\n",
       "    }\n",
       "</style>\n",
       "<table border=\"1\" class=\"dataframe\">\n",
       "  <thead>\n",
       "    <tr style=\"text-align: right;\">\n",
       "      <th></th>\n",
       "      <th>Association</th>\n",
       "      <th>ASSOC</th>\n",
       "    </tr>\n",
       "  </thead>\n",
       "  <tbody>\n",
       "    <tr>\n",
       "      <th>0</th>\n",
       "      <td>Aushadhalay</td>\n",
       "      <td>AUSHAD</td>\n",
       "    </tr>\n",
       "    <tr>\n",
       "      <th>1</th>\n",
       "      <td>Aushad Ghar</td>\n",
       "      <td>AUSHAD</td>\n",
       "    </tr>\n",
       "    <tr>\n",
       "      <th>2</th>\n",
       "      <td>Banasree</td>\n",
       "      <td>BANAS</td>\n",
       "    </tr>\n",
       "    <tr>\n",
       "      <th>3</th>\n",
       "      <td>Bangladesh</td>\n",
       "      <td>BD</td>\n",
       "    </tr>\n",
       "    <tr>\n",
       "      <th>4</th>\n",
       "      <td>Cantonment</td>\n",
       "      <td>CANT</td>\n",
       "    </tr>\n",
       "  </tbody>\n",
       "</table>\n",
       "</div>"
      ],
      "text/plain": [
       "  Association    ASSOC\n",
       "0  Aushadhalay  AUSHAD\n",
       "1  Aushad Ghar  AUSHAD\n",
       "2     Banasree   BANAS\n",
       "3   Bangladesh      BD\n",
       "4   Cantonment    CANT"
      ]
     },
     "execution_count": 207,
     "metadata": {},
     "output_type": "execute_result"
    }
   ],
   "source": [
    "patterns.head()"
   ]
  },
  {
   "cell_type": "code",
   "execution_count": 208,
   "metadata": {},
   "outputs": [
    {
     "data": {
      "text/plain": [
       "{'Association ': {0: 'Aushadhalay',\n",
       "  1: 'Aushad Ghar',\n",
       "  2: 'Banasree',\n",
       "  3: 'Bangladesh',\n",
       "  4: 'Cantonment',\n",
       "  5: 'Cardiology ',\n",
       "  6: 'Center ',\n",
       "  7: 'Central',\n",
       "  8: 'Chamber',\n",
       "  9: 'Chikistsaloy ',\n",
       "  10: 'Chittaagong',\n",
       "  11: 'Clinic',\n",
       "  12: 'College',\n",
       "  13: 'Commission',\n",
       "  14: 'Comission',\n",
       "  15: 'Communication ',\n",
       "  16: 'Community',\n",
       "  17: 'Complex ',\n",
       "  18: 'Consultation',\n",
       "  19: 'Consultant',\n",
       "  20: 'Corner ',\n",
       "  21: 'Corner ',\n",
       "  22: 'Corporate',\n",
       "  23: 'Corporation',\n",
       "  24: 'Culture',\n",
       "  25: 'Dental ',\n",
       "  26: 'Departmental ',\n",
       "  27: 'Diabetic',\n",
       "  28: 'Diabetics ',\n",
       "  29: 'Diagnostic ',\n",
       "  30: 'Digital',\n",
       "  31: 'Dispenchary ',\n",
       "  32: 'Distribution',\n",
       "  33: 'Distributor',\n",
       "  34: 'Doctor',\n",
       "  35: 'DRG',\n",
       "  36: 'Electric',\n",
       "  37: 'Employee',\n",
       "  38: 'Enterprise',\n",
       "  39: 'Fisheries',\n",
       "  40: 'Foundation ',\n",
       "  41: 'Fowndetion ',\n",
       "  42: 'Genaral',\n",
       "  43: 'Gulshan Tower',\n",
       "  44: 'Hatchery',\n",
       "  45: 'Herbal',\n",
       "  46: 'Hospital ',\n",
       "  47: 'Industries',\n",
       "  48: 'Institute ',\n",
       "  49: 'International ',\n",
       "  50: 'Intregration',\n",
       "  51: 'Investment',\n",
       "  52: 'Logistics',\n",
       "  53: 'Management ',\n",
       "  54: 'Managing Director',\n",
       "  55: 'Medical ',\n",
       "  56: 'Medicare',\n",
       "  57: 'Medicine ',\n",
       "  58: 'Medico',\n",
       "  59: 'Memorial',\n",
       "  60: 'Metropolitan',\n",
       "  61: 'Model',\n",
       "  62: 'Modern ',\n",
       "  63: 'Not Applicable',\n",
       "  64: 'Nursing ',\n",
       "  65: 'Office',\n",
       "  66: 'Office & Others',\n",
       "  67: 'Orthopaedic ',\n",
       "  68: 'Organisation',\n",
       "  69: 'Others',\n",
       "  70: 'Oushadhaloy  ',\n",
       "  71: 'Pathology',\n",
       "  72: 'Pharmaceutical',\n",
       "  73: 'Pharmacitical',\n",
       "  74: 'Pharmacy',\n",
       "  75: 'Private',\n",
       "  76: 'Professors',\n",
       "  77: 'Project',\n",
       "  78: 'Poultry',\n",
       "  79: 'Scientific ',\n",
       "  80: 'Sergical ',\n",
       "  81: 'Sergical',\n",
       "  82: 'Services',\n",
       "  83: 'Specialized',\n",
       "  84: 'Store',\n",
       "  85: 'Sub Distributor                                             ',\n",
       "  86: 'Super',\n",
       "  87: 'Technology',\n",
       "  88: 'Telicom',\n",
       "  89: 'Tetultala Khilkhet Express',\n",
       "  90: 'Traders',\n",
       "  91: 'Treatment',\n",
       "  92: 'Varities',\n",
       "  93: 'Varrietise',\n",
       "  94: 'Veterinary'},\n",
       " 'ASSOC': {0: 'AUSHAD',\n",
       "  1: 'AUSHAD',\n",
       "  2: 'BANAS',\n",
       "  3: 'BD',\n",
       "  4: 'CANT',\n",
       "  5: 'CRD',\n",
       "  6: 'CNTR',\n",
       "  7: 'CENT',\n",
       "  8: 'CHAM',\n",
       "  9: 'CHIKT',\n",
       "  10: 'CTG',\n",
       "  11: 'CLC',\n",
       "  12: 'COL',\n",
       "  13: 'COMM',\n",
       "  14: 'COMM',\n",
       "  15: 'CMNTY',\n",
       "  16: 'COMMU',\n",
       "  17: 'CMPLX',\n",
       "  18: 'CN',\n",
       "  19: 'CN',\n",
       "  20: 'CRNR',\n",
       "  21: 'CRNR',\n",
       "  22: 'COR',\n",
       "  23: 'CORP',\n",
       "  24: 'CUL',\n",
       "  25: 'DNTL',\n",
       "  26: 'DEPT',\n",
       "  27: 'DES',\n",
       "  28: 'DES',\n",
       "  29: 'DAG',\n",
       "  30: 'DIGI',\n",
       "  31: 'DISP',\n",
       "  32: 'DIST',\n",
       "  33: 'DIST',\n",
       "  34: 'DOC',\n",
       "  35: 'DRG',\n",
       "  36: 'ELC',\n",
       "  37: 'EMP',\n",
       "  38: 'ENT',\n",
       "  39: 'FISHER',\n",
       "  40: 'FNDN',\n",
       "  41: 'FND',\n",
       "  42: 'GEN',\n",
       "  43: 'GT',\n",
       "  44: 'HAT',\n",
       "  45: 'HRBL',\n",
       "  46: 'HOSP',\n",
       "  47: 'INDUS',\n",
       "  48: 'INST',\n",
       "  49: 'INTL',\n",
       "  50: 'INTGRA',\n",
       "  51: 'INVEST',\n",
       "  52: 'LOG',\n",
       "  53: 'MGMT',\n",
       "  54: 'MD',\n",
       "  55: 'MED',\n",
       "  56: 'MEDI',\n",
       "  57: 'MDCN',\n",
       "  58: 'MEDC',\n",
       "  59: 'MEMO',\n",
       "  60: 'METRO',\n",
       "  61: 'MDL',\n",
       "  62: 'MDRN',\n",
       "  63: nan,\n",
       "  64: 'NSG',\n",
       "  65: 'OFF',\n",
       "  66: 'OFF&OTRS',\n",
       "  67: 'ORTHO',\n",
       "  68: 'ORG',\n",
       "  69: 'OTRS',\n",
       "  70: 'AUSHD',\n",
       "  71: 'PATH',\n",
       "  72: 'PHARMA',\n",
       "  73: 'PHARMA',\n",
       "  74: 'PHAR',\n",
       "  75: 'PVT',\n",
       "  76: 'PROF',\n",
       "  77: 'PROJ',\n",
       "  78: 'POUL',\n",
       "  79: 'SCI',\n",
       "  80: 'SURG',\n",
       "  81: 'SURG',\n",
       "  82: 'SER',\n",
       "  83: 'SPC',\n",
       "  84: 'STR',\n",
       "  85: 'SUB-DIST',\n",
       "  86: 'SUP',\n",
       "  87: 'TECH',\n",
       "  88: 'TEL',\n",
       "  89: 'TETU KHIL EXP',\n",
       "  90: 'TRD',\n",
       "  91: 'TRT',\n",
       "  92: 'VARIE',\n",
       "  93: 'VARIE',\n",
       "  94: 'VAT'}}"
      ]
     },
     "execution_count": 208,
     "metadata": {},
     "output_type": "execute_result"
    }
   ],
   "source": [
    "patterns.to_dict()"
   ]
  },
  {
   "cell_type": "code",
   "execution_count": null,
   "outputs": [],
   "source": [
    " keywo ={\n",
    "  \"medicine\": \"MED\",\n",
    "  \"Pharmacy\": \"PHAR\"\n",
    "}\n",
    "df['short_name'] = data['fullname'].replace(patterns, regex=True)"
   ],
   "metadata": {
    "collapsed": false,
    "pycharm": {
     "name": "#%%\n"
    }
   }
  },
  {
   "cell_type": "code",
   "execution_count": null,
   "outputs": [],
   "source": [
    "df.head(10)"
   ],
   "metadata": {
    "collapsed": false,
    "pycharm": {
     "name": "#%%\n"
    }
   }
  },
  {
   "cell_type": "code",
   "execution_count": 201,
   "metadata": {
    "pycharm": {
     "name": "#%%\n"
    }
   },
   "outputs": [],
   "source": []
  },
  {
   "cell_type": "code",
   "execution_count": 204,
   "metadata": {
    "pycharm": {
     "name": "#%%\n"
    }
   },
   "outputs": [
    {
     "data": {
      "text/html": [
       "<div>\n",
       "<style scoped>\n",
       "    .dataframe tbody tr th:only-of-type {\n",
       "        vertical-align: middle;\n",
       "    }\n",
       "\n",
       "    .dataframe tbody tr th {\n",
       "        vertical-align: top;\n",
       "    }\n",
       "\n",
       "    .dataframe thead th {\n",
       "        text-align: right;\n",
       "    }\n",
       "</style>\n",
       "<table border=\"1\" class=\"dataframe\">\n",
       "  <thead>\n",
       "    <tr style=\"text-align: right;\">\n",
       "      <th></th>\n",
       "      <th>short_name</th>\n",
       "    </tr>\n",
       "  </thead>\n",
       "  <tbody>\n",
       "    <tr>\n",
       "      <th>0</th>\n",
       "      <td>Ride Medicine Corner</td>\n",
       "    </tr>\n",
       "    <tr>\n",
       "      <th>1</th>\n",
       "      <td>Konok Pharmacy</td>\n",
       "    </tr>\n",
       "    <tr>\n",
       "      <th>2</th>\n",
       "      <td>Shahera Medicine Corner</td>\n",
       "    </tr>\n",
       "    <tr>\n",
       "      <th>3</th>\n",
       "      <td>Manik Medical Hall</td>\n",
       "    </tr>\n",
       "    <tr>\n",
       "      <th>4</th>\n",
       "      <td>Sourav Sajib Medical hall</td>\n",
       "    </tr>\n",
       "    <tr>\n",
       "      <th>5</th>\n",
       "      <td>Tonni Medicine Corner</td>\n",
       "    </tr>\n",
       "    <tr>\n",
       "      <th>6</th>\n",
       "      <td>Ghosh Pharma</td>\n",
       "    </tr>\n",
       "    <tr>\n",
       "      <th>7</th>\n",
       "      <td>Nazim Medical Hall</td>\n",
       "    </tr>\n",
       "    <tr>\n",
       "      <th>8</th>\n",
       "      <td>Anjumonoara Pharmacy</td>\n",
       "    </tr>\n",
       "    <tr>\n",
       "      <th>9</th>\n",
       "      <td>Nishan Pharmacy</td>\n",
       "    </tr>\n",
       "  </tbody>\n",
       "</table>\n",
       "</div>"
      ],
      "text/plain": [
       "                  short_name\n",
       "0       Ride Medicine Corner\n",
       "1             Konok Pharmacy\n",
       "2    Shahera Medicine Corner\n",
       "3         Manik Medical Hall\n",
       "4  Sourav Sajib Medical hall\n",
       "5      Tonni Medicine Corner\n",
       "6               Ghosh Pharma\n",
       "7         Nazim Medical Hall\n",
       "8       Anjumonoara Pharmacy\n",
       "9            Nishan Pharmacy"
      ]
     },
     "execution_count": 204,
     "metadata": {},
     "output_type": "execute_result"
    }
   ],
   "source": [
    "df.head(10)"
   ]
  },
  {
   "cell_type": "code",
   "execution_count": null,
   "metadata": {},
   "outputs": [],
   "source": []
  },
  {
   "cell_type": "code",
   "execution_count": 18,
   "metadata": {},
   "outputs": [],
   "source": []
  },
  {
   "cell_type": "code",
   "execution_count": null,
   "metadata": {},
   "outputs": [],
   "source": []
  },
  {
   "cell_type": "code",
   "execution_count": null,
   "metadata": {},
   "outputs": [],
   "source": []
  }
 ],
 "metadata": {
  "kernelspec": {
   "display_name": "Python 3",
   "language": "python",
   "name": "python3"
  },
  "language_info": {
   "codemirror_mode": {
    "name": "ipython",
    "version": 3
   },
   "file_extension": ".py",
   "mimetype": "text/x-python",
   "name": "python",
   "nbconvert_exporter": "python",
   "pygments_lexer": "ipython3",
   "version": "3.8.3"
  }
 },
 "nbformat": 4,
 "nbformat_minor": 1
}